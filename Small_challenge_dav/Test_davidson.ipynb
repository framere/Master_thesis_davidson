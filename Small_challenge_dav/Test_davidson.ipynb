{
 "cells": [
  {
   "cell_type": "code",
   "execution_count": null,
   "id": "41f4b390",
   "metadata": {},
   "outputs": [],
   "source": [
    "using LinearAlgebra \n",
    "using Printf"
   ]
  },
  {
   "cell_type": "code",
   "execution_count": null,
   "id": "9d5a47ea",
   "metadata": {},
   "outputs": [],
   "source": [
    "# Function to compute the Hamiltonian matrix for a 1D quartic oscillator\n",
    "# N: number of grid points\n",
    "# L: length of the domain (default is 1.0)\n",
    "# Returns a NxN matrix representing the Hamiltonian\n",
    "function Hamiltonian(N, L = 1.0)\n",
    "    H = zeros(Float64, N, N)\n",
    "    dx_squared = L^2 / N^2\n",
    "    for i in 1:N\n",
    "        right = mod(i, N) + 1\n",
    "        left = mod(i - 2, N) + 1\n",
    "        H[i, i] = 1.0 / dx_squared\n",
    "        H[i, right] = -0.5 / dx_squared\n",
    "        H[i, left] = -0.5 / dx_squared\n",
    "    end\n",
    "\n",
    "    # Quartic term\n",
    "    for i in 1:N\n",
    "        argument = (i-1) - N/2\n",
    "        H[i, i] += 1/24* argument^4 * dx_squared^2\n",
    "    end\n",
    "    return H\n",
    "end\n",
    "N = 100  # Number of grid points"
   ]
  },
  {
   "cell_type": "code",
   "execution_count": null,
   "id": "e001feaf",
   "metadata": {},
   "outputs": [],
   "source": [
    "H = Hermitian(Hamiltonian(N))\n",
    "\n",
    "eigenvalues, eigenvectors = eigen(H)\n",
    "\n",
    "# Print the first 10 eigenvalues\n",
    "@printf(\"First 10 eigenvalues:\\n\")\n",
    "for i in 1:16\n",
    "    @printf(\"Eigenvalue %d: %.6f\\n\", i, eigenvalues[i])\n",
    "end\n"
   ]
  },
  {
   "cell_type": "code",
   "execution_count": null,
   "id": "c4261de2",
   "metadata": {},
   "outputs": [],
   "source": [
    "v1 = zeros(Float64, 10)\n",
    "for i in 1:10\n",
    "    v1[i] = i\n",
    "end\n",
    "\n",
    "\n",
    "size(H,1) # determine the number of rows in H\n",
    "# size(H,2) # determine the number of columns in H"
   ]
  },
  {
   "cell_type": "code",
   "execution_count": null,
   "id": "c26538a0",
   "metadata": {},
   "outputs": [],
   "source": [
    "v1 = rand(Float64, size(H, 1))\n",
    "V = hcat(v1)"
   ]
  },
  {
   "cell_type": "code",
   "execution_count": null,
   "id": "bfa7df8d",
   "metadata": {},
   "outputs": [],
   "source": [
    "function davidson(H, v_1, M, iterations)\n",
    "    \"\"\"\n",
    "    Davidson algorithm for finding the M lowest eigenvalues and eigenvectors \n",
    "    of the hermitian matrix H. We have an initial guess v_1 for the first eigenvector.\n",
    "    There's a maximum number of iterations specified by `iterations`.\n",
    "    \"\"\"\n",
    "    \n",
    "    N = size(H, 1) # dimension of the Hamiltonian matrix\n",
    "    D = diag(H)\n",
    "    V = hcat(v_1) # matrix to store the eigenvectors\n",
    "    for i in 1:iterations\n",
    "        n = size(V, 2) # number of eigenvectors in V\n",
    "        W = zeros(Float64, N, 2 * n) # matrix to store the residuals\n",
    "\n",
    "        for k in 1:n\n",
    "            W[:, k+1] = -1 / (D .- dot(V[:, k], H * V[:, k])) * (H * V[:, k] - dot(V[:, k], H * V[:, k]) * V[:, k])\n",
    "            W[:, k] = V[:, k]\n",
    "        end\n",
    "        \n",
    "        Q, R = qr(W) # QR decomposition\n",
    "\n",
    "        U = Matrix(Q[:, 1:2*n]) # keep only the first 2*n columns\n",
    "\n",
    "        J = U' * H * U # projected Hamiltonian\n",
    "        J = Hermitian(J) # ensure J is hermitian\n",
    "        m = min(M, 2*n)\n",
    "\n",
    "        e, v = eigen(J) # compute eigenvalues and eigenvectors of J\n",
    "        e = sort(e) # sort eigenvalues\n",
    "        lambda = e[1:m] # take the first M eigenvalues\n",
    "        v = v[:, 1:m] # take the first M eigenvectors\n",
    "        \n",
    "        v = U * v # back-transform eigenvectors\n",
    "\n",
    "        V = hcat(V, v[:, 1:m]) # keep only the first M eigenvectors\n",
    "    end\n",
    "    return V, e\n",
    "end"
   ]
  },
  {
   "cell_type": "code",
   "execution_count": null,
   "id": "acf74e69",
   "metadata": {},
   "outputs": [],
   "source": [
    "randMatrix = rand(Float64, 100, 100)\n",
    "randMatrix = Hermitian(randMatrix)\n",
    "v1 = rand(Float64, size(randMatrix, 1))\n",
    "M = 10 # number of eigenvalues to find\n",
    "iterations = 100 # maximum number of iterations\n",
    "V, e = davidson(randMatrix, v1, M, iterations)\n",
    "\n",
    "# Print the eigenvalues\n",
    "for i in 1:M\n",
    "    @printf(\"Eigenvalue %d: %.6f\\n\", i, e[i])\n",
    "end\n",
    "# Print the eigenvectors\n",
    "for i in 1:M\n",
    "    @printf(\"Eigenvector %d: \", i)\n",
    "    for j in 1:size(V, 1)\n",
    "        @printf(\"%.6f \", V[j, i])\n",
    "    end\n",
    "    println()\n",
    "end\n",
    "\n",
    "true_eigenvalues, true_eigenvectors = eigen(randMatrix)\n",
    "# Print the true eigenvalues\n",
    "for i in 1:M\n",
    "    @printf(\"True Eigenvalue %d: %.6f\\n\", i, true_eigenvalues[i])\n",
    "end\n",
    "# Print the true eigenvectors\n",
    "for i in 1:M\n",
    "    @printf(\"True Eigenvector %d: \", i)\n",
    "    for j in 1:size(true_eigenvectors, 1)\n",
    "        @printf(\"%.6f \", true_eigenvectors[j, i])\n",
    "    end\n",
    "    println()\n",
    "end\n"
   ]
  },
  {
   "cell_type": "code",
   "execution_count": null,
   "id": "9d95e32c",
   "metadata": {},
   "outputs": [],
   "source": [
    "randMatrix = rand(Float64, 100, 100)\n",
    "randMatrix = Hermitian(randMatrix)"
   ]
  },
  {
   "cell_type": "code",
   "execution_count": null,
   "id": "f3a43536",
   "metadata": {},
   "outputs": [],
   "source": [
    "N = 100\n",
    "V = zeros(Float64, N, 1)\n",
    "v1 = randn(N)\n",
    "\n",
    "V[:, 1] = v1 / norm(v1)\n",
    "size(V,2)"
   ]
  },
  {
   "cell_type": "code",
   "execution_count": null,
   "id": "080fade6",
   "metadata": {},
   "outputs": [],
   "source": [
    "v = zeros(Float64, size(H, 1))\n",
    "v[1] = 1.0\n",
    "\n",
    "M = 5\n",
    "delta_v = zeros(Float64, size(H, 1), M)\n",
    "N=10\n",
    "lambda = rand(Float64, N)"
   ]
  },
  {
   "cell_type": "code",
   "execution_count": null,
   "id": "844b83de",
   "metadata": {},
   "outputs": [],
   "source": [
    "residuum = zeros(Float64, 4)\n",
    "for i in 1:4\n",
    "    residuum[i] = i\n",
    "end\n",
    "\n",
    "residuum"
   ]
  }
 ],
 "metadata": {
  "kernelspec": {
   "display_name": "Julia 1.11.4",
   "language": "julia",
   "name": "julia-1.11"
  },
  "language_info": {
   "file_extension": ".jl",
   "mimetype": "application/julia",
   "name": "julia",
   "version": "1.11.4"
  }
 },
 "nbformat": 4,
 "nbformat_minor": 5
}
