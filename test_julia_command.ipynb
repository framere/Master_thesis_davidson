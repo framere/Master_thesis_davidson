{
 "cells": [
  {
   "cell_type": "code",
   "execution_count": null,
   "id": "022b2c0a",
   "metadata": {},
   "outputs": [],
   "source": [
    "using LinearAlgebra\n",
    "\n",
    "eigenvalues = [0.4, 0, 1, 2]\n",
    "\n",
    "diagonal_matrix = diagm(eigenvalues)\n",
    "\n",
    "square_root_matrix = sqrt.(diagonal_matrix)"
   ]
  },
  {
   "cell_type": "code",
   "execution_count": null,
   "id": "65ce334a",
   "metadata": {},
   "outputs": [],
   "source": [
    "# using LinearAlgebra\n",
    "# using JLD2\n",
    "\n",
    "# function load_eigenresults(output_file=\"eigen_results.jld2\")\n",
    "#     # Unpack directly into variables\n",
    "#     data = load(output_file)  # Returns a Dict-like object\n",
    "#     Σexact = data[\"Σexact\"]  # Access by key\n",
    "#     Uexact = data[\"Uexact\"]\n",
    "#     return Σexact, Uexact\n",
    "# end\n",
    "\n",
    "# Sigma, Uexact = load_eigenresults(\"../MA_best/Eigenvalues_folder/eigen_results_hBN.jld2\")"
   ]
  },
  {
   "cell_type": "code",
   "execution_count": null,
   "id": "30330f6e",
   "metadata": {},
   "outputs": [],
   "source": [
    "using LinearAlgebra\n",
    "using IterativeSolvers\n",
    "\n",
    "# ------------------------------------------------------------\n",
    "# Helper function: project vector orthogonal to v\n",
    "function project(v::AbstractVector, x::AbstractMatrix)\n",
    "    return x - v * v' * x\n",
    "end\n",
    "\n",
    "# ------------------------------------------------------------\n",
    "# Helper function: project matrix-vector product operator\n",
    "function M_operator(A, v, λ)\n",
    "    I_mat = I(size(A, 1))  # Identity matrix of the same size as A\n",
    "    x = (A - λ * I_mat)\n",
    "    y = project(v, x) \n",
    "    z = project(v, y)\n",
    "    return z\n",
    "end\n",
    "\n",
    "A = rand(100, 100)  # Example matrix A"
   ]
  },
  {
   "cell_type": "code",
   "execution_count": null,
   "id": "8e433141",
   "metadata": {},
   "outputs": [],
   "source": [
    "nev = 5\n",
    "n = 100\n",
    "λs = ones(nev)\n",
    "R = ones(nev)\n",
    "\n",
    "V = zeros(n, nev)\n",
    "for i = 1:nev\n",
    "    V[i,i] = 1.0\n",
    "end\n",
    "\n",
    "\n",
    "v = V[:,1]\n",
    "λ = λs[1]\n",
    "r = R[1]\n",
    "\n",
    "# Define LinearOperator M\n",
    "Mop = M_operator(A, v, λ)    \n",
    "display(Mop)\n",
    "\n",
    "println(Mop * v)\n"
   ]
  },
  {
   "cell_type": "code",
   "execution_count": 8,
   "id": "a80a8bc6",
   "metadata": {},
   "outputs": [
    {
     "name": "stdout",
     "output_type": "stream",
     "text": [
      "Benchmarking CG\n",
      "  51.860 μs (20 allocations: 32.14 KiB)\n",
      "Benchmarking MINRES\n",
      "  54.134 μs (33 allocations: 56.00 KiB)\n"
     ]
    },
    {
     "data": {
      "text/plain": [
       "1000-element Vector{Float64}:\n",
       "  0.00014329594989212938\n",
       "  0.0006670605998509154\n",
       "  0.0006751435710649825\n",
       " -0.0006560861037841071\n",
       " -0.0027933714759489896\n",
       "  0.0007129606558824044\n",
       "  0.001057386016810772\n",
       "  9.033353259657234e-5\n",
       "  0.00022198555209894855\n",
       " -0.0005522052771966552\n",
       "  ⋮\n",
       " -0.0026376529365174524\n",
       "  0.001434576857738931\n",
       "  0.001305169049233081\n",
       "  0.000250735689868935\n",
       " -0.0010848815342644747\n",
       "  0.0016136044377277317\n",
       " -0.0006065581550458612\n",
       "  0.0012172872558652583\n",
       "  0.00033706938298561334"
      ]
     },
     "metadata": {},
     "output_type": "display_data"
    }
   ],
   "source": [
    "using IterativeSolvers, BenchmarkTools, LinearAlgebra, SparseArrays\n",
    "\n",
    "n = 1000\n",
    "A = sprandn(n, n, 0.01)\n",
    "A = A + A' + n*I # make it SPD for cg\n",
    "b = randn(n)\n",
    "\n",
    "println(\"Benchmarking CG\")\n",
    "@btime cg($A, $b; maxiter=100, reltol=1e-6)\n",
    "println(\"Benchmarking MINRES\")\n",
    "@btime minres($A, $b; maxiter=100, reltol=1e-6)"
   ]
  },
  {
   "cell_type": "code",
   "execution_count": null,
   "id": "0a20a220",
   "metadata": {},
   "outputs": [],
   "source": []
  }
 ],
 "metadata": {
  "kernelspec": {
   "display_name": "Julia 1.11.4",
   "language": "julia",
   "name": "julia-1.11"
  },
  "language_info": {
   "file_extension": ".jl",
   "mimetype": "application/julia",
   "name": "julia",
   "version": "1.11.4"
  }
 },
 "nbformat": 4,
 "nbformat_minor": 5
}
