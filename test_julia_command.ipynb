{
 "cells": [
  {
   "cell_type": "code",
   "execution_count": 7,
   "id": "30330f6e",
   "metadata": {},
   "outputs": [
    {
     "data": {
      "text/plain": [
       "100×100 Matrix{Float64}:\n",
       " -8.04695   0.0       0.0       0.0      …   0.0       0.0       0.0\n",
       "  0.0      -4.80212   0.0       0.0          0.0       0.0       0.0\n",
       "  0.0       0.0      -1.29132   0.0          0.0       0.0       0.0\n",
       "  0.0       0.0       0.0      -2.03131      0.0       0.0       0.0\n",
       "  0.0       0.0       0.0       0.0          0.0       0.0       0.0\n",
       "  0.0       0.0       0.0       0.0      …   0.0       0.0       0.0\n",
       "  0.0       0.0       0.0       0.0          0.0       0.0       0.0\n",
       "  0.0       0.0       0.0       0.0          0.0       0.0       0.0\n",
       "  0.0       0.0       0.0       0.0          0.0       0.0       0.0\n",
       "  0.0       0.0       0.0       0.0          0.0       0.0       0.0\n",
       "  ⋮                                      ⋱                      \n",
       "  0.0       0.0       0.0       0.0          0.0       0.0       0.0\n",
       "  0.0       0.0       0.0       0.0          0.0       0.0       0.0\n",
       "  0.0       0.0       0.0       0.0          0.0       0.0       0.0\n",
       "  0.0       0.0       0.0       0.0          0.0       0.0       0.0\n",
       "  0.0       0.0       0.0       0.0      …   0.0       0.0       0.0\n",
       "  0.0       0.0       0.0       0.0          0.0       0.0       0.0\n",
       "  0.0       0.0       0.0       0.0         -1.17099   0.0       0.0\n",
       "  0.0       0.0       0.0       0.0          0.0      -5.00966   0.0\n",
       "  0.0       0.0       0.0       0.0          0.0       0.0      -2.16442"
      ]
     },
     "metadata": {},
     "output_type": "display_data"
    },
    {
     "data": {
      "text/plain": [
       "100×100 Hermitian{Float64, Diagonal{Float64, Vector{Float64}}}:\n",
       " -8.04695    ⋅         ⋅         ⋅       …    ⋅         ⋅         ⋅ \n",
       "   ⋅       -4.80212    ⋅         ⋅            ⋅         ⋅         ⋅ \n",
       "   ⋅         ⋅       -1.29132    ⋅            ⋅         ⋅         ⋅ \n",
       "   ⋅         ⋅         ⋅       -2.03131       ⋅         ⋅         ⋅ \n",
       "   ⋅         ⋅         ⋅         ⋅            ⋅         ⋅         ⋅ \n",
       "   ⋅         ⋅         ⋅         ⋅       …    ⋅         ⋅         ⋅ \n",
       "   ⋅         ⋅         ⋅         ⋅            ⋅         ⋅         ⋅ \n",
       "   ⋅         ⋅         ⋅         ⋅            ⋅         ⋅         ⋅ \n",
       "   ⋅         ⋅         ⋅         ⋅            ⋅         ⋅         ⋅ \n",
       "   ⋅         ⋅         ⋅         ⋅            ⋅         ⋅         ⋅ \n",
       "  ⋮                                      ⋱                      \n",
       "   ⋅         ⋅         ⋅         ⋅            ⋅         ⋅         ⋅ \n",
       "   ⋅         ⋅         ⋅         ⋅            ⋅         ⋅         ⋅ \n",
       "   ⋅         ⋅         ⋅         ⋅            ⋅         ⋅         ⋅ \n",
       "   ⋅         ⋅         ⋅         ⋅            ⋅         ⋅         ⋅ \n",
       "   ⋅         ⋅         ⋅         ⋅       …    ⋅         ⋅         ⋅ \n",
       "   ⋅         ⋅         ⋅         ⋅            ⋅         ⋅         ⋅ \n",
       "   ⋅         ⋅         ⋅         ⋅          -1.17099    ⋅         ⋅ \n",
       "   ⋅         ⋅         ⋅         ⋅            ⋅       -5.00966    ⋅ \n",
       "   ⋅         ⋅         ⋅         ⋅            ⋅         ⋅       -2.16442"
      ]
     },
     "metadata": {},
     "output_type": "display_data"
    },
    {
     "name": "stdout",
     "output_type": "stream",
     "text": [
      "Shape of preconditioner Pl: (100, 100)\n",
      "Shape of preconditioner Pl: (100, 100)\n",
      "Shape of preconditioner Pl: (100, 100)\n",
      "Shape of preconditioner Pl: (100, 100)\n",
      "Shape of preconditioner Pl: (100, 100)\n"
     ]
    }
   ],
   "source": [
    "using LinearAlgebra\n",
    "using IterativeSolvers\n",
    "\n",
    "# ------------------------------------------------------------\n",
    "# Helper function: project vector orthogonal to v\n",
    "function project(v::AbstractVector, x::AbstractMatrix)\n",
    "    return x - v * v' * x\n",
    "end\n",
    "\n",
    "# ------------------------------------------------------------\n",
    "# Helper function: project matrix-vector product operator\n",
    "function M_operator(A, v, λ)\n",
    "    I_mat = I(size(A, 1))  # Identity matrix of the same size as A\n",
    "    x = (A - λ * I_mat)\n",
    "    y = project(v, x) \n",
    "    z = project(v, y)\n",
    "    return z\n",
    "end\n",
    "\n",
    "A = rand(100, 100)  # Example matrix A\n",
    "\n",
    "nev = 5\n",
    "n = 100\n",
    "λs = ones(nev)\n",
    "R = ones(nev)\n",
    "\n",
    "V = zeros(n, nev)\n",
    "for i = 1:nev\n",
    "    V[i,i] = 1.0\n",
    "end\n",
    "\n",
    "for i in 1:nev\n",
    "    v = V[:,i]\n",
    "    λ = λs[i]\n",
    "    r = R[i]\n",
    "    \n",
    "    # Define LinearOperator M\n",
    "    Mop = M_operator(A, v, λ)    \n",
    "    diagA = diag(A)\n",
    "    precond_vec = diagA .- λ\n",
    "    precond = 1 ./ precond_vec\n",
    "    Pl = Matrix(Diagonal(precond))\n",
    "    P2 = Hermitian(Diagonal(precond))\n",
    "\n",
    "    # print shape of Pl\n",
    "    println(\"Shape of preconditioner Pl: \", size(Pl))\n",
    "\n",
    "    if i == 1\n",
    "        display(Pl) \n",
    "        display(P2)\n",
    "    end\n",
    "end\n",
    "\n"
   ]
  }
 ],
 "metadata": {
  "kernelspec": {
   "display_name": "Julia 1.11.4",
   "language": "julia",
   "name": "julia-1.11"
  },
  "language_info": {
   "file_extension": ".jl",
   "mimetype": "application/julia",
   "name": "julia",
   "version": "1.11.4"
  }
 },
 "nbformat": 4,
 "nbformat_minor": 5
}
