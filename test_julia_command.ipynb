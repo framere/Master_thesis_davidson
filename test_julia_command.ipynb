{
 "cells": [
  {
   "cell_type": "code",
   "execution_count": 1,
   "id": "f46a086e",
   "metadata": {},
   "outputs": [
    {
     "name": "stdout",
     "output_type": "stream",
     "text": [
      "[1, 2, 3, 4, 5]\n"
     ]
    }
   ],
   "source": [
    "y = [1, 2, 3, 4, 5]\n",
    "println(y)"
   ]
  },
  {
   "cell_type": "code",
   "execution_count": 2,
   "id": "77b0b076",
   "metadata": {},
   "outputs": [
    {
     "name": "stdout",
     "output_type": "stream",
     "text": [
      "Hello, Julia!\n"
     ]
    }
   ],
   "source": [
    "println(\"Hello, Julia!\")"
   ]
  },
  {
   "cell_type": "code",
   "execution_count": 3,
   "id": "87c3daea",
   "metadata": {},
   "outputs": [
    {
     "name": "stdout",
     "output_type": "stream",
     "text": [
      "[1, 2, 3, 4, 5, 6, 7, 8, 9, 10]\n"
     ]
    }
   ],
   "source": [
    "println(collect(1:1:10))"
   ]
  },
  {
   "cell_type": "code",
   "execution_count": 4,
   "id": "3217a617",
   "metadata": {},
   "outputs": [
    {
     "name": "stdout",
     "output_type": "stream",
     "text": [
      "1\n",
      "4\n",
      "7\n",
      "10\n",
      "13\n",
      "16\n",
      "19\n",
      "22\n",
      "25\n",
      "28\n"
     ]
    }
   ],
   "source": [
    "for i in collect(1:3:30)\n",
    "    println(i)\n",
    "end"
   ]
  },
  {
   "cell_type": "code",
   "execution_count": 5,
   "id": "c3602f01",
   "metadata": {},
   "outputs": [
    {
     "name": "stdout",
     "output_type": "stream",
     "text": [
      "0.04696119735283866\n"
     ]
    }
   ],
   "source": [
    "println(rand())\n"
   ]
  },
  {
   "cell_type": "code",
   "execution_count": 6,
   "id": "a4900376",
   "metadata": {},
   "outputs": [
    {
     "data": {
      "text/plain": [
       "sparse_matrix (generic function with 1 method)"
      ]
     },
     "metadata": {},
     "output_type": "display_data"
    }
   ],
   "source": [
    "\n",
    "function sparse_matrix(N::Int, factor::Int)\n",
    "    A = zeros(Float64, N, N)\n",
    "    for i in 1:N\n",
    "        for j in 1:N\n",
    "            if i == j\n",
    "                A[i, j] = rand() * factor\n",
    "            else\n",
    "                if rand() < 0.05 # 5% chance to be non-zero off-diagonal --> Problemmm\n",
    "                    A[i, j] = rand() / factor\n",
    "                else\n",
    "                    # Keep the off-diagonal elements as zero\n",
    "                    A[i, j] = 0.0\n",
    "                end\n",
    "            end\n",
    "        end\n",
    "    end\n",
    "\n",
    "    return Hermitian(A)\n",
    "end"
   ]
  },
  {
   "cell_type": "code",
   "execution_count": 7,
   "id": "eb975bda",
   "metadata": {},
   "outputs": [
    {
     "ename": "UndefVarError",
     "evalue": "UndefVarError: `Hermitian` not defined in `Main`\nSuggestion: check for spelling errors or missing imports.\nHint: a global variable of this name may be made accessible by importing LinearAlgebra in the current active module Main",
     "output_type": "error",
     "traceback": [
      "UndefVarError: `Hermitian` not defined in `Main`\n",
      "Suggestion: check for spelling errors or missing imports.\n",
      "Hint: a global variable of this name may be made accessible by importing LinearAlgebra in the current active module Main\n",
      "\n",
      "Stacktrace:\n",
      " [1] sparse_matrix(N::Int64, factor::Int64)\n",
      "   @ Main ~/Master_arbeit/jl_notebook_cell_df34fa98e69747e1a8f8a730347b8e2f_W5sZmlsZQ==.jl:19\n",
      " [2] top-level scope\n",
      "   @ ~/Master_arbeit/jl_notebook_cell_df34fa98e69747e1a8f8a730347b8e2f_W6sZmlsZQ==.jl:1"
     ]
    }
   ],
   "source": [
    "A = sparse_matrix(10, 50)"
   ]
  },
  {
   "cell_type": "code",
   "execution_count": 8,
   "id": "df03f8ed",
   "metadata": {},
   "outputs": [
    {
     "ename": "UndefVarError",
     "evalue": "UndefVarError: `diag` not defined in `Main`\nSuggestion: check for spelling errors or missing imports.\nHint: a global variable of this name may be made accessible by importing LinearAlgebra in the current active module Main",
     "output_type": "error",
     "traceback": [
      "UndefVarError: `diag` not defined in `Main`\n",
      "Suggestion: check for spelling errors or missing imports.\n",
      "Hint: a global variable of this name may be made accessible by importing LinearAlgebra in the current active module Main\n",
      "\n",
      "Stacktrace:\n",
      " [1] top-level scope\n",
      "   @ ~/Master_arbeit/jl_notebook_cell_df34fa98e69747e1a8f8a730347b8e2f_X10sZmlsZQ==.jl:1"
     ]
    }
   ],
   "source": [
    "diag(A)"
   ]
  },
  {
   "cell_type": "code",
   "execution_count": 9,
   "id": "a2329ba2",
   "metadata": {},
   "outputs": [
    {
     "ename": "ArgumentError",
     "evalue": "ArgumentError: Cannot set a non-diagonal index in a Hermitian matrix",
     "output_type": "error",
     "traceback": [
      "ArgumentError: Cannot set a non-diagonal index in a Hermitian matrix\n",
      "\n",
      "Stacktrace:\n",
      " [1] setindex!(A::Hermitian{Float64, Matrix{Float64}}, v::Float64, i::Int64, j::Int64)\n",
      "   @ LinearAlgebra ~/julia-1.11.4/share/julia/stdlib/v1.11/LinearAlgebra/src/symmetric.jl:264\n",
      " [2] top-level scope\n",
      "   @ ~/Master_arbeit/jl_notebook_cell_df34fa98e69747e1a8f8a730347b8e2f_X11sZmlsZQ==.jl:12"
     ]
    }
   ],
   "source": [
    "using Plots\n",
    "using LinearAlgebra\n",
    "\n",
    "N = 2000\n",
    "factor = 10\n",
    "γ_pp = sparse_matrix(N, factor)\n",
    "\n",
    "# Replace small values with a threshold\n",
    "for i = 1:N\n",
    "    for j = 1:N\n",
    "        if abs(γ_pp[i,j] <= 1e-6)\n",
    "            γ_pp[i,j] = 1e-6\n",
    "        end\n",
    "    end\n",
    "end\n",
    "\n",
    "logabs_γ_pp = log10.(abs.(γ_pp))\n",
    "heatmap(logabs_γ_pp,\n",
    "        xlabel=\"b\",\n",
    "        ylabel=\"a\",\n",
    "        colorbar_title=\"color map\",\n",
    "        aspect_ratio=:equal,\n",
    "        c = :ice,\n",
    "        size = (800, 800))\n"
   ]
  }
 ],
 "metadata": {
  "kernelspec": {
   "display_name": "Julia 1.11.4",
   "language": "julia",
   "name": "julia-1.11"
  },
  "language_info": {
   "file_extension": ".jl",
   "mimetype": "application/julia",
   "name": "julia",
   "version": "1.11.4"
  }
 },
 "nbformat": 4,
 "nbformat_minor": 5
}
